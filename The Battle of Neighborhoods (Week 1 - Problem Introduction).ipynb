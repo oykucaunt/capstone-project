{
    "cells": [
        {
            "metadata": {
                "collapsed": true
            },
            "cell_type": "markdown",
            "source": "# Battle Of The Neighborhoods - Finding the best place to buy a house in South London"
        },
        {
            "metadata": {},
            "cell_type": "markdown",
            "source": "### 1. Background and Problem Description"
        },
        {
            "metadata": {},
            "cell_type": "markdown",
            "source": "<p> This notebook is for the Applied Data Science Capstone module of the IBM Data Science Professional Certificate. I will be using data cleaning and machine learning techniques to analyse location and demographic data for wards (neighborhoods) in the South London region.\n    \n<p> Whether you are renting, in the process of buying a home, or paying off a mortgage - living in London certainly isn't cheap. Compared to towns in the Midlands and the North, even the smallest houses and flats in London come with eye-watering price tags. Many young professionals choose to live in London and its outskirts due to the concentration of jobs in central London, and commute to their workplaces.\n    \n<p> While this project involves using FourSquare API to gather data on the frequenct of different venues in each ward, it is also important to consider the other major factors in househunting. I will also be using demographic data for each ward relating to median house prices, access to green space, crime statistics, and the accessibility of public transport. I will use this information to cluster the wards , and choose the ideal location for a young professional to buy their first home in South London. </p>"
        },
        {
            "metadata": {},
            "cell_type": "markdown",
            "source": "### 2. Data Description and Methodology"
        },
        {
            "metadata": {},
            "cell_type": "markdown",
            "source": "<p> Below are the data sources I used to create my machine learning dataset:\n    \n1. [London Ward Atlas](https://londondatastore-upload.s3.amazonaws.com/instant-atlas/ward-atlas-html/atlas.html) - Interactive map of London wards where I downloaded my raw data from. I then edited this in Excel to remove the indicators I didn't need. My final indicators were median house price, burglaries, access to greenspace, and public transport accessibility score (PTAL).\n2. [Ward Boundary Data](https://opendata.arcgis.com/datasets/7193daa99995445aa84a0b23352e56a1_0.geojson) - Geospatial data for all wards in England in GeoJSON format.\n3. [Foursquare API](https://developer.foursquare.com/) - Using the free developer account for Foursquare API to return common venues in each ward."
        },
        {
            "metadata": {},
            "cell_type": "code",
            "source": "",
            "execution_count": null,
            "outputs": []
        }
    ],
    "metadata": {
        "kernelspec": {
            "name": "python3",
            "display_name": "Python 3.7",
            "language": "python"
        },
        "language_info": {
            "name": "python",
            "version": "3.7.10",
            "mimetype": "text/x-python",
            "codemirror_mode": {
                "name": "ipython",
                "version": 3
            },
            "pygments_lexer": "ipython3",
            "nbconvert_exporter": "python",
            "file_extension": ".py"
        }
    },
    "nbformat": 4,
    "nbformat_minor": 1
}